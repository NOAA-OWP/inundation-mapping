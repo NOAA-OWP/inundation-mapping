{
 "cells": [
  {
   "cell_type": "code",
   "execution_count": null,
   "id": "6eb53c55-02a3-4172-9026-8a1ddbc05a72",
   "metadata": {
    "tags": []
   },
   "outputs": [],
   "source": [
    "from catfim.vis_categorical_fim import (read_catfim_outputs, \n",
    "                                        subset_catfim_geom_by_site, \n",
    "                                        subset_apply_symbology_catfim_library, \n",
    "                                        map_catfim_full_extent, \n",
    "                                        map_catfim_at_site, \n",
    "                                        map_catfim_full_extent, \n",
    "                                        create_perpendicular_cross_section, \n",
    "                                        map_cross_section_geometry, \n",
    "                                        generate_dem_path, \n",
    "                                        create_cross_section_points, \n",
    "                                        get_elevation_for_cross_section_points, \n",
    "                                        apply_catfim_library_to_points, \n",
    "                                        plot_catfim_cross_section, \n",
    "                                        map_catfim_cross_section_points)"
   ]
  },
  {
   "cell_type": "code",
   "execution_count": null,
   "id": "9ac6692c-262d-4d4b-9a62-f2cbcea83f6d",
   "metadata": {
    "tags": []
   },
   "outputs": [],
   "source": [
    "EPSG = 5070\n",
    "\n",
    "## Viewing cross-section example\n",
    "\n",
    "# Inputs\n",
    "lid = 'bltn7'\n",
    "huc = '06010105'\n",
    "catfim_inputs_path = '/data/previous_fim/fim_4_5_2_11'\n",
    "catfim_outputs_path = '/data/catfim/emily_test/hand_4_5_11_1_catfim_datavis_flow_based/'\n",
    "\n",
    "# Viewing AUON6 \n",
    "\n",
    "# # Inputs\n",
    "# lid = 'AUON6'\n",
    "# huc = '04140201'\n",
    "# # catfim_inputs_path = '/data/outputs/hand_4_5_11_1_catfim'\n",
    "# catfim_inputs_path = '/data/previous_fim/fim_4_5_2_11'\n",
    "# catfim_outputs_path = '/data/catfim/hand_4_5_11_1_stage_based/'\n",
    "\n",
    "# Viewing PACI1\n",
    "\n",
    "# Inputs\n",
    "# lid = 'paci1'\n",
    "# huc = '17060108'\n",
    "# catfim_inputs_path = '/data/previous_fim/fim_4_5_2_11'\n",
    "# catfim_outputs_path = '/data/catfim/hand_4_5_11_1_stage_based/'\n",
    "\n",
    "# ## Viewing Alaska BEFORE updates\n",
    "\n",
    "# # Inputs\n",
    "# lid = 'apta2'\n",
    "# huc = '19020301'\n",
    "# catfim_inputs_path = '/data/previous_fim/fim_4_5_2_11'\n",
    "# catfim_outputs_path = '/data/catfim/hand_4_5_11_1_flow_based'\n",
    "\n",
    "## Viewing Alaska updates\n",
    "\n",
    "# # Inputs\n",
    "# lid = 'apta2'\n",
    "# huc = '19020301'\n",
    "# catfim_inputs_path = '/data/previous_fim/fim_4_5_2_11'\n",
    "# catfim_outputs_path = '/data/catfim/emily_test/AK_new_wrds_flow_based/'"
   ]
  },
  {
   "cell_type": "markdown",
   "id": "3683983c-a5af-4c99-9863-b09f213d371c",
   "metadata": {
    "tags": []
   },
   "source": [
    "### Reading in and processing CatFIM library and geospatial data"
   ]
  },
  {
   "cell_type": "code",
   "execution_count": null,
   "id": "4d0c27b8-f47d-4543-9471-c6d2f0e799a0",
   "metadata": {
    "tags": []
   },
   "outputs": [],
   "source": [
    "# Read in the CatFIM outputs\n",
    "catfim_library, catfim_points, flowline_gdf = read_catfim_outputs(catfim_inputs_path, catfim_outputs_path, huc)\n",
    "\n",
    "# Subset the CatFIM geometries by site and enforce projection\n",
    "catfim_library_filt, points_filt_gdf, flowline_filt_gdf = subset_catfim_geom_by_site(lid, catfim_library, catfim_points, flowline_gdf, EPSG)\n",
    "\n",
    "# Filter CatFIM library and create the symbology columns\n",
    "catfim_library_filt, colordict = subset_apply_symbology_catfim_library(catfim_library, points_filt_gdf, lid, include_record=True)"
   ]
  },
  {
   "cell_type": "markdown",
   "id": "0a29618a-7133-43f0-9e8c-568014986ffc",
   "metadata": {},
   "source": [
    "### Plotting CatFIM library"
   ]
  },
  {
   "cell_type": "code",
   "execution_count": null,
   "id": "e66e0adb-cb23-4a8b-ba58-eb35bc197dde",
   "metadata": {
    "tags": []
   },
   "outputs": [],
   "source": [
    "map_catfim_full_extent(catfim_library_filt, flowline_filt_gdf, points_filt_gdf, colordict, plot_title='', legend=True)"
   ]
  },
  {
   "cell_type": "code",
   "execution_count": null,
   "id": "85da45bd-51b8-40d0-af52-07c22f8ad08b",
   "metadata": {
    "tags": []
   },
   "outputs": [],
   "source": [
    "map_catfim_at_site(catfim_library_filt, flowline_filt_gdf, points_filt_gdf, colordict, plot_title='', EPSG=5070, basemap=True, site_view=True, legend = True) "
   ]
  },
  {
   "cell_type": "code",
   "execution_count": null,
   "id": "7860f8c9-e878-4122-a5ef-288972e1ce5f",
   "metadata": {
    "tags": []
   },
   "outputs": [],
   "source": [
    "map_catfim_full_extent(catfim_library_filt, flowline_filt_gdf, points_filt_gdf, colordict, plot_title='', legend=False)"
   ]
  },
  {
   "cell_type": "markdown",
   "id": "ba427afc-2290-4867-ab60-43c48b0c890a",
   "metadata": {},
   "source": [
    "### Generate and Plot CatFIM Elevation Cross-section"
   ]
  },
  {
   "cell_type": "code",
   "execution_count": null,
   "id": "6d7e18d3-d291-4bb3-b689-4a1bc9c966e7",
   "metadata": {
    "tags": []
   },
   "outputs": [],
   "source": [
    "## Function Inputs ------------------------------------\n",
    "\n",
    "xsection_length = 1000 # cross-section length, meters or feet, 1000 suggested\n",
    "EPSG = 5070\n",
    "dist_between_points = 10 # distance between points on cross-section line, 10 suggested\n",
    "\n",
    "\n",
    "## Run Functions ------------------------------------\n",
    "\n",
    "# Create cross-section\n",
    "xsection_gdf = create_perpendicular_cross_section(flowline_filt_gdf, points_filt_gdf, xsection_length, EPSG)\n",
    "\n",
    "# Map the cross-section\n",
    "map_cross_section_geometry(xsection_gdf, points_filt_gdf, flowline_filt_gdf, modifier=100, plot_title=f'Flowline cross-section at site {lid}')\n",
    "\n",
    "# Get DEM path\n",
    "dem_path = generate_dem_path(huc, root_dem_path='/data/inputs/3dep_dems/')\n",
    "\n",
    "# Create points along cross-section line\n",
    "xsection_points_gdf, xsection_midpoint = create_cross_section_points(xsection_gdf, dist_between_points)\n",
    "\n",
    "# Apply elevation to points\n",
    "xsection_points_gdf = get_elevation_for_cross_section_points(dem_path, xsection_points_gdf, EPSG)\n",
    "\n",
    "# Apply CatFIM stages to points\n",
    "xsection_catfim_filt_gdf = apply_catfim_library_to_points(xsection_points_gdf, catfim_library_filt)\n",
    "\n",
    "# Plot the CatFIM stage cross-section\n",
    "plot_catfim_cross_section(xsection_points_gdf, xsection_catfim_filt_gdf, xsection_midpoint, colordict, elev_upper_buffer_ft=10, \n",
    "                          num_points_buffer=5, dist_between_points=10, save_plot=False, \n",
    "                          plot_title = f'CatFIM library elevation cross-section at site {lid}', \n",
    "                          file_label='')\n",
    "\n",
    "# Map the CatFIM stage cross-section\n",
    "map_catfim_cross_section_points(catfim_library_filt, flowline_filt_gdf, xsection_catfim_filt_gdf, colordict, \n",
    "                                modifier=100, EPSG = 5070, plot_title=f'CatFIM library elevation cross-section at site {lid}', \n",
    "                                basemap=True, legend=True)"
   ]
  },
  {
   "cell_type": "code",
   "execution_count": null,
   "id": "d46976cd-a892-4f82-a3b4-ba59eb125b91",
   "metadata": {
    "tags": []
   },
   "outputs": [],
   "source": [
    "# Map the CatFIM stage cross-section\n",
    "map_catfim_cross_section_points(catfim_library_filt, flowline_filt_gdf, xsection_catfim_filt_gdf, colordict, \n",
    "                                modifier=100, EPSG=5070, plot_title=f'CatFIM library elevation cross-section at site {lid}', \n",
    "                                basemap=False, legend=True)\n",
    "\n",
    "# Map the CatFIM stage cross-section\n",
    "map_catfim_cross_section_points(catfim_library_filt, flowline_filt_gdf, xsection_catfim_filt_gdf, colordict, \n",
    "                                modifier=100, EPSG=5070, plot_title=f'CatFIM library elevation cross-section at site {lid}', \n",
    "                                basemap=True, legend=True)"
   ]
  }
 ],
 "metadata": {
  "kernelspec": {
   "display_name": "Python 3 (ipykernel)",
   "language": "python",
   "name": "python3"
  },
  "language_info": {
   "codemirror_mode": {
    "name": "ipython",
    "version": 3
   },
   "file_extension": ".py",
   "mimetype": "text/x-python",
   "name": "python",
   "nbconvert_exporter": "python",
   "pygments_lexer": "ipython3",
   "version": "3.10.12"
  }
 },
 "nbformat": 4,
 "nbformat_minor": 5
}
