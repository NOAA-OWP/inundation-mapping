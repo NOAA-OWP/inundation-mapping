{
 "cells": [
  {
   "cell_type": "markdown",
   "id": "804e7fed-abb4-4678-a3c9-32b64ba6ec55",
   "metadata": {},
   "source": [
    "# Building the HAND model"
   ]
  },
  {
   "cell_type": "code",
   "execution_count": null,
   "id": "a1379ec1-76fa-44be-bef7-537e7733fd99",
   "metadata": {
    "tags": []
   },
   "outputs": [],
   "source": [
    "import subprocess\n",
    "import rasterio\n",
    "import geopandas as gpd\n",
    "import pandas as pd\n",
    "import numpy as np\n",
    "import os\n",
    "import requests\n",
    "from PIL import Image\n",
    "import matplotlib.pyplot as plt\n",
    "from rasterio import plot as rioplot"
   ]
  },
  {
   "cell_type": "code",
   "execution_count": null,
   "id": "cad869ab-ac2a-48c8-830a-020e3d97128e",
   "metadata": {
    "scrolled": true,
    "tags": []
   },
   "outputs": [],
   "source": [
    "# For simplicity, we use subprocess to run here, but we usually just run these commands\n",
    "# in a terminal window.\n",
    "fim_pipeline_help = \"fim_pipeline.sh --help\"\n",
    "subprocess.run(fim_pipeline_help, shell=True)"
   ]
  },
  {
   "cell_type": "markdown",
   "id": "8c1062d2-2ca4-4389-ac8f-e3ad1bcb80f5",
   "metadata": {
    "tags": []
   },
   "source": [
    "## Running the FIM Pipeline"
   ]
  },
  {
   "cell_type": "code",
   "execution_count": null,
   "id": "5425b382-a7f5-45d9-9e4a-6e9883b74df1",
   "metadata": {
    "scrolled": true,
    "tags": []
   },
   "outputs": [],
   "source": [
    "fim_output_dir = 'fim_pipeline_outputs'\n",
    "huc = '03100204'\n",
    "fim_pipeline_cmd = f\"fim_pipeline.sh -o -u {huc} -n {fim_output_dir} -jh 1 -jb 5\"\n",
    "print(fim_pipeline_cmd)\n",
    "subprocess.run(fim_pipeline_cmd, shell=True)"
   ]
  },
  {
   "cell_type": "markdown",
   "id": "6e7caf70-2d0e-421a-b808-c81325a09344",
   "metadata": {},
   "source": [
    "### FIM Pipeline outputs"
   ]
  },
  {
   "cell_type": "code",
   "execution_count": null,
   "id": "866846c2-b7f6-4893-be91-081c7d6de872",
   "metadata": {
    "tags": []
   },
   "outputs": [],
   "source": [
    "from pathlib import Path\n",
    "from itertools import islice\n",
    "\n",
    "space =  '    '\n",
    "branch = '│   '\n",
    "tee =    '├── '\n",
    "last =   '└── '\n",
    "\n",
    "\n",
    "def tree(dir_path: Path, level: int=-1, limit_to_directories: bool=False,\n",
    "         length_limit: int=1000):\n",
    "    \"\"\"Given a directory Path object print a visual tree structure\"\"\"\n",
    "    dir_path = Path(dir_path) # accept string coerceable to Path\n",
    "    files = 0\n",
    "    directories = 0\n",
    "    def inner(dir_path: Path, prefix: str='', level=-1):\n",
    "        nonlocal files, directories\n",
    "        if not level: \n",
    "            return # 0, stop iterating\n",
    "        if limit_to_directories:\n",
    "            contents = sorted([d for d in dir_path.iterdir() if d.is_dir()])\n",
    "        else: \n",
    "            contents = sorted(list(dir_path.iterdir()))\n",
    "        pointers = [tee] * (len(contents) - 1) + [last]\n",
    "        for pointer, path in zip(pointers, contents):\n",
    "            if path.is_dir():\n",
    "                yield prefix + pointer + path.name\n",
    "                directories += 1\n",
    "                extension = branch if pointer == tee else space \n",
    "                yield from inner(path, prefix=prefix+extension, level=level-1)\n",
    "            elif not limit_to_directories:\n",
    "                yield prefix + pointer + path.name\n",
    "                files += 1\n",
    "    print(dir_path.name)\n",
    "    iterator = inner(dir_path, level=level)\n",
    "    for line in islice(iterator, length_limit):\n",
    "        print(line)\n",
    "    if next(iterator, None):\n",
    "        print(f'... length_limit, {length_limit}, reached, counted:')\n",
    "    print(f'\\n{directories} directories' + (f', {files} files' if files else ''))"
   ]
  },
  {
   "cell_type": "code",
   "execution_count": null,
   "id": "4adc9c4a-ed4a-4476-8a1e-70f7aa989a63",
   "metadata": {
    "tags": []
   },
   "outputs": [],
   "source": [
    "tree(Path(Path.home().parent, 'outputs', fim_output_dir, huc), level=2)"
   ]
  },
  {
   "cell_type": "code",
   "execution_count": null,
   "id": "5cbedada-375f-4012-bc0d-c92ea563fa5f",
   "metadata": {
    "tags": []
   },
   "outputs": [],
   "source": [
    "tree(Path(Path.home().parent, 'outputs', fim_output_dir, huc, 'branches', '1691000003'))"
   ]
  },
  {
   "cell_type": "markdown",
   "id": "007d769f-4c72-488c-b92a-9cff915f44d2",
   "metadata": {},
   "source": [
    "# Producing an inundation map"
   ]
  },
  {
   "cell_type": "code",
   "execution_count": null,
   "id": "a62f9982-63b9-4f61-9fd0-4cc6ef3baf96",
   "metadata": {
    "tags": []
   },
   "outputs": [],
   "source": [
    "inundation_raster = os.path.join('/outputs', fim_output_dir, 'fim_raster.tif')\n",
    "flow_file_csv = \"/data/inundation_review/inundation_nwm_recurr/nwm_recurr_flow_data/nwm21_17C_recurr_50_0_cms.csv\"\n",
    "fim_pipeline_cmd = f\"python /foss_fim/tools/inundate_mosaic_wrapper.py -y /outputs/{fim_output_dir} -u {huc} -i {inundation_raster} -f {flow_file_csv} -w 5\"\n",
    "print(fim_pipeline_cmd)\n",
    "subprocess.run(fim_pipeline_cmd, shell=True)"
   ]
  },
  {
   "cell_type": "markdown",
   "id": "7e8aa527-ed90-4229-a038-8e283f405872",
   "metadata": {},
   "source": [
    "## Plotting FIM"
   ]
  },
  {
   "cell_type": "markdown",
   "id": "97017ac6-b9dc-46f2-b044-8765bc2ae7d7",
   "metadata": {},
   "source": [
    "### Show full FIM raster"
   ]
  },
  {
   "cell_type": "code",
   "execution_count": null,
   "id": "f7af02c5-07ac-4d6c-bd0a-c18bb0e01122",
   "metadata": {
    "tags": []
   },
   "outputs": [],
   "source": [
    "with rasterio.open(inundation_raster) as fim_rast:\n",
    "    fim_nodata = fim_rast.profile['nodata']\n",
    "    fim_extent = rioplot.plotting_extent(fim_rast)\n",
    "    fim_transform = fim_rast.transform\n",
    "    fim_crs = fim_rast.crs\n",
    "    fim = fim_rast.read(1).astype(float)\n",
    "    # Set nodata to nan\n",
    "    fim[np.where(fim == fim_nodata)] = np.nan\n",
    "    # Create binary array where 1 = wet and 0 = dry\n",
    "    fim[np.where(fim > 0)] = 1\n",
    "    fim[np.where(fim < 0)] = np.nan\n",
    "\n",
    "# Plot using matplotlib\n",
    "fig = plt.figure()\n",
    "ax = fig.subplots(1,1)\n",
    "\n",
    "im = ax.imshow(fim, cmap='bwr', extent=fim_extent, interpolation='none', alpha=1)\n",
    "\n",
    "ax.set_xticks([])\n",
    "ax.set_yticks([])\n",
    "ax.set_title(\"NWM Retrospective 50-yr FIM\")\n",
    "fig.tight_layout()\n",
    "plt.show()"
   ]
  },
  {
   "cell_type": "markdown",
   "id": "634480c9-55a2-4863-80ee-9d23e11b6735",
   "metadata": {},
   "source": [
    "### Comparing base HAND with FIM v4.X"
   ]
  },
  {
   "cell_type": "code",
   "execution_count": null,
   "id": "e3e09dac-f0fb-4ef0-80e1-6a90f0d6734a",
   "metadata": {
    "tags": []
   },
   "outputs": [],
   "source": [
    "# Load branch 0 raster\n",
    "branch_0_inundation_raster = inundation_raster.replace('.tif', f'_{huc}_0.tif')\n",
    "with rasterio.open(branch_0_inundation_raster) as b0_rast:\n",
    "    branch0_nodata = b0_rast.profile['nodata']\n",
    "    branch0_extent = rioplot.plotting_extent(b0_rast)\n",
    "    branch0_transform = b0_rast.transform\n",
    "    branch0_crs = b0_rast.crs\n",
    "    branch0 = b0_rast.read(1).astype(float)\n",
    "    # Set nodata to nan\n",
    "    branch0[np.where(branch0 == branch0_nodata)] = np.nan\n",
    "    # Create binary array where 1 = wet and 0 = dry\n",
    "    branch0[np.where(branch0 > 0)] = 1\n",
    "    branch0[np.where(branch0 < 0)] = np.nan\n",
    "branch_0_inundation_raster"
   ]
  },
  {
   "cell_type": "code",
   "execution_count": null,
   "id": "d997055e-fd62-4981-8271-09913e8c8261",
   "metadata": {
    "tags": []
   },
   "outputs": [],
   "source": [
    "# Reqesting ESRI basemap\n",
    "fim_crs = '5070'\n",
    "# X/Y bounds of the maps\n",
    "x = (1346850, 1352450)\n",
    "y = (628000, 633600)\n",
    "# Grabbing a basemap from Arcgis Online\n",
    "esri_url = f\"https://services.arcgisonline.com/arcgis/rest/services/World_Imagery/MapServer/export?bbox={x[0]}%2C{y[0]}%2C{x[1]}%2C{y[1]}&bboxSR={fim_crs}&layers=0&size=&imageSR={fim_crs}&transparent=true&dpi=200&f=image\"\n",
    "esri_aerial = Image.open(requests.get(esri_url, stream=True).raw).convert('RGBA')\n",
    "esri_url"
   ]
  },
  {
   "cell_type": "code",
   "execution_count": null,
   "id": "b3bddb8d-bfd6-439b-8744-fb004931e798",
   "metadata": {
    "tags": []
   },
   "outputs": [],
   "source": [
    "fig = plt.figure(figsize=(15,5))\n",
    "ax = fig.subplots(1,3)\n",
    "\n",
    "# Subplot 1\n",
    "ax[0].set_title(\"Base HAND i.e. Branch Zero\")\n",
    "im = ax[0].imshow(esri_aerial, extent=(x[0],x[1],y[0],y[1]))\n",
    "im = ax[0].imshow(\n",
    "    branch0,\n",
    "    cmap='bwr',\n",
    "    extent=branch0_extent,\n",
    "    interpolation='none',\n",
    "    alpha=0.7\n",
    ")\n",
    "\n",
    " # Subplot 2\n",
    "ax[1].set_title(\"Composited FIM v4.x with Generalized Mainstems (GMS)\")\n",
    "im = ax[1].imshow(esri_aerial, extent=(x[0],x[1],y[0],y[1]))\n",
    "im = ax[1].imshow(fim, cmap='bwr', extent=fim_extent, interpolation='none', alpha=0.7)\n",
    "\n",
    "# Subplot 3\n",
    "ax[2].set_title(\"Highlighting the Differences\")\n",
    "im = ax[2].imshow(fim, cmap='bwr_r', extent=fim_extent, interpolation='none', alpha=0.4)\n",
    "im = ax[2].imshow(branch0, cmap='bwr', extent=branch0_extent, interpolation='none', alpha=0.4)\n",
    "\n",
    "# Set the bounds of all axes to be the same\n",
    "for axis in ax:\n",
    "    axis.set_xbound([x[0],x[1]])\n",
    "    axis.set_ybound([y[0],y[1]])\n",
    "    axis.set_xticks([])\n",
    "    axis.set_yticks([])\n",
    "fig.tight_layout()\n",
    "plt.show()"
   ]
  },
  {
   "cell_type": "markdown",
   "id": "f4750e47-4b9c-4295-9397-7e780cf2b147",
   "metadata": {},
   "source": [
    "# Evaluating FIM performance"
   ]
  },
  {
   "cell_type": "code",
   "execution_count": null,
   "id": "412e3592-c6ee-4d6c-86cc-e2ac9fa4b229",
   "metadata": {
    "tags": []
   },
   "outputs": [],
   "source": [
    "from matplotlib.colors import LinearSegmentedColormap\n",
    "from matplotlib.patches import Patch"
   ]
  },
  {
   "cell_type": "code",
   "execution_count": null,
   "id": "d65023c8-6eca-40ec-ae43-fe768d476da8",
   "metadata": {
    "tags": []
   },
   "outputs": [],
   "source": [
    "fim_pipeline_cmd = f\"python /foss_fim/tools/synthesize_test_cases.py -c DEV -e GMS -v {fim_output_dir} -jh 1 -jb 5 -o -b nws -m /outputs/{fim_output_dir}/eval_metrics.csv\"\n",
    "print(fim_pipeline_cmd)\n",
    "subprocess.run(fim_pipeline_cmd, shell=True)"
   ]
  },
  {
   "cell_type": "markdown",
   "id": "0606fdc9-a584-4ef1-af06-b3c7404f3c64",
   "metadata": {},
   "source": [
    "## Plotting the agreement map"
   ]
  },
  {
   "cell_type": "code",
   "execution_count": null,
   "id": "58141be3-2b73-4d01-afb9-b3df78b96cfb",
   "metadata": {},
   "outputs": [],
   "source": [
    "agreement_map_tif = f\"/data/test_cases/nws_test_cases/{huc}_nws/testing_versions/{fim_output_dir}/major/litf1_b0m_agreement.tif\""
   ]
  },
  {
   "cell_type": "code",
   "execution_count": null,
   "id": "d8616995-dc5c-4eed-ad6f-9c23ffb6b52b",
   "metadata": {
    "tags": []
   },
   "outputs": [],
   "source": [
    "# Load in the agreement raster\n",
    "with rasterio.open(agreement_map_tif) as agree:\n",
    "    transform = agree.transform\n",
    "    agree_grid = agree.read(1)\n",
    "    agree_extent = rioplot.plotting_extent(agree)\n",
    "    agree_grid = np.ma.masked_where(agree_grid == 10, agree_grid)"
   ]
  },
  {
   "cell_type": "code",
   "execution_count": null,
   "id": "30bdf1f0-5f66-42d0-ac31-c01220e30c66",
   "metadata": {
    "tags": []
   },
   "outputs": [],
   "source": [
    "# Custom colormap for the agreement raster\n",
    "cdict = {'red':  ((0.0, 0.0, 0.0),     # 0: True Negative\n",
    "                  (0.25, 0.91, 0.91),  # 1: False Negative\n",
    "                  (0.5, 0.93,0.93),    # 2: False Positive\n",
    "                  (0.75, 0.43, 0.43),  # 3: True Positive\n",
    "                  (1.0, 0.77, 0.77)),  # 4: Masked Area\n",
    "         'green':((0.0, 0.0, 0.0),\n",
    "                  (0.25, 0.73, 0.73),\n",
    "                  (0.5, 0.04, 0.04),\n",
    "                  (0.75, 0.61, 0.61),\n",
    "                  (1.0, 0.77, 0.77)),\n",
    "          'blue':((0.0, 0.0, 0.0),\n",
    "                  (0.25, 0.0, 0.0),\n",
    "                  (0.5, 0.05, 0.05),\n",
    "                  (0.75, 0.88, 0.88),\n",
    "                  (1.0, 0.77, 0.77))\n",
    "          }\n",
    "agree_colormap = LinearSegmentedColormap('agree', cdict)\n",
    "norm=plt.Normalize(0,4)"
   ]
  },
  {
   "cell_type": "code",
   "execution_count": null,
   "id": "335d40c1-b080-4d10-b99f-5f8b72a8dd48",
   "metadata": {
    "tags": []
   },
   "outputs": [],
   "source": [
    "# Plotting code\n",
    "fig, ax = plt.subplots(figsize=(12, 8))\n",
    "\n",
    "ax.imshow(agree_grid, cmap=agree_colormap, norm=norm, extent=agree_extent, interpolation='none', alpha=1)\n",
    "ax.set_xticks([])\n",
    "ax.set_yticks([])\n",
    "# Legend\n",
    "TP_patch = Patch(color='#2c7bb6', linewidth=0.5, label='True Positive')\n",
    "TN_patch = Patch(color='#000000', linewidth=0.5, label='True Negative')\n",
    "FN_patch = Patch(color='#fdae61', linewidth=0.5, label='False Negative')\n",
    "FP_patch = Patch(color='#d7191c', linewidth=0.5, label='False Positive')\n",
    "ax.legend(loc='upper left', ncol=1, handles=[TP_patch, FN_patch, FP_patch, TN_patch], fontsize=12)\n",
    "ax.set_title('LITF1 Benchmark Agreement')\n",
    "plt.tight_layout()\n",
    "plt.show()"
   ]
  }
 ],
 "metadata": {
  "kernelspec": {
   "display_name": "Python 3 (ipykernel)",
   "language": "python",
   "name": "python3"
  },
  "language_info": {
   "codemirror_mode": {
    "name": "ipython",
    "version": 3
   },
   "file_extension": ".py",
   "mimetype": "text/x-python",
   "name": "python",
   "nbconvert_exporter": "python",
   "pygments_lexer": "ipython3",
   "version": "3.10.12"
  }
 },
 "nbformat": 4,
 "nbformat_minor": 5
}
